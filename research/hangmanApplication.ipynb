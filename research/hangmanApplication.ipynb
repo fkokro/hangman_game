{
 "cells": [
  {
   "cell_type": "code",
   "execution_count": 13,
   "metadata": {},
   "outputs": [],
   "source": [
    "from english_words import get_english_words_set\n",
    "import random\n",
    "import warnings\n",
    "warnings.filterwarnings(\"ignore\")"
   ]
  },
  {
   "cell_type": "code",
   "execution_count": 4,
   "metadata": {},
   "outputs": [],
   "source": [
    "# Retrieve a set of English words from web2 URL: https://svnweb.freebsd.org/base/head/share/dict/web2?view=markup&pathrev=326913\n",
    "web2wordrset = get_english_words_set(['web2'])"
   ]
  },
  {
   "cell_type": "code",
   "execution_count": 7,
   "metadata": {},
   "outputs": [
    {
     "data": {
      "text/plain": [
       "235970"
      ]
     },
     "execution_count": 7,
     "metadata": {},
     "output_type": "execute_result"
    }
   ],
   "source": [
    "len(web2wordrset)"
   ]
  },
  {
   "cell_type": "code",
   "execution_count": 9,
   "metadata": {},
   "outputs": [],
   "source": [
    "def get_word():\n",
    "    word = random.choice(list(web2wordrset))\n",
    "    return word.upper()"
   ]
  },
  {
   "cell_type": "code",
   "execution_count": 22,
   "metadata": {},
   "outputs": [],
   "source": [
    "def display_hangman(tries):\n",
    "    stages =[\n",
    "                \"\"\"\n",
    "                _____\n",
    "                |     |\n",
    "                |     O\n",
    "                |   \\-*-/\n",
    "                |     |\n",
    "                |    / \\\n",
    "            ____|\n",
    "                \"\"\",\n",
    "\n",
    "                \"\"\"\n",
    "                     _____\n",
    "                    |     |\n",
    "                    |     O\n",
    "                    |   \\-*-/\n",
    "                    |     |\n",
    "                    |    / \n",
    "               _____|\n",
    "                \"\"\",\n",
    "\n",
    "                \"\"\"\n",
    "                     _____\n",
    "                    |     |\n",
    "                    |     O\n",
    "                    |   \\-*-/\n",
    "                    |     |\n",
    "                    |     \n",
    "               _____|\n",
    "                \"\"\",\n",
    "\n",
    "                \"\"\"\n",
    "                     _____\n",
    "                    |     |\n",
    "                    |     O\n",
    "                    |   \\-*\n",
    "                    |     \n",
    "                    |    \n",
    "               _____|\n",
    "                \"\"\",\n",
    "\n",
    "                \"\"\"\n",
    "                     _____\n",
    "                    |     |\n",
    "                    |     O\n",
    "                    |   \n",
    "                    |     \n",
    "                    |    \n",
    "                ____|\n",
    "                \"\"\",\n",
    "\n",
    "                \"\"\"\n",
    "                    ______\n",
    "                    |     |\n",
    "                    |     \n",
    "                    |   \n",
    "                    |    \n",
    "                    |    \n",
    "                ____|\n",
    "                \"\"\"\n",
    "            ]\n",
    "    \n",
    "    return stages[tries]\n",
    "      "
   ]
  },
  {
   "cell_type": "code",
   "execution_count": 24,
   "metadata": {},
   "outputs": [],
   "source": [
    "def play(word):\n",
    "    word_completion = \"_\" * len(word)\n",
    "    guessed = False\n",
    "    guessed_letters = []\n",
    "    guessed_words = []\n",
    "    tries = 6\n",
    "    print(\"Let's play Hangman!\")\n",
    "    print(display_hangman(tries))\n",
    "    print(word_completion)\n",
    "    print(\"\\n\")\n",
    "    while not guessed and tries > 0:\n",
    "        guess = input(\"Please guess a letter or word: \").upper()\n",
    "        if len(guess) == 1 and guess.isalpha():\n",
    "            if guess in guessed_letters:\n",
    "                print(\"You already guessed the letter\", guess)\n",
    "            elif guess not in word:\n",
    "                print(guess, \"is not in the word.\")\n",
    "                tries -= 1\n",
    "                guessed_letters.append(guess)\n",
    "            else:\n",
    "                print(\"Good job,\", guess, \"is in the word!\")\n",
    "                guessed_letters.append(guess)\n",
    "                word_as_list = list(word_completion)\n",
    "                indices = [i for i, letter in enumerate(word) if letter == guess]\n",
    "                for index in indices:\n",
    "                    word_as_list[index] = guess\n",
    "                word_completion = \"\".join(word_as_list)\n",
    "                if \"_\" not in word_completion:\n",
    "                    guessed = True"
   ]
  },
  {
   "cell_type": "code",
   "execution_count": null,
   "metadata": {},
   "outputs": [],
   "source": [
    "def main():\n",
    "    word  = get_word()\n",
    "    play(word)\n",
    "    while input(\"Play Again? (Y/N) \").upper() == \"Y\":\n",
    "        word\n",
    "        play(word)"
   ]
  }
 ],
 "metadata": {
  "kernelspec": {
   "display_name": "venv",
   "language": "python",
   "name": "python3"
  },
  "language_info": {
   "codemirror_mode": {
    "name": "ipython",
    "version": 3
   },
   "file_extension": ".py",
   "mimetype": "text/x-python",
   "name": "python",
   "nbconvert_exporter": "python",
   "pygments_lexer": "ipython3",
   "version": "3.12.2"
  }
 },
 "nbformat": 4,
 "nbformat_minor": 2
}
